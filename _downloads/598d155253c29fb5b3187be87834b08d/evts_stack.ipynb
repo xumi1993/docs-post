{
  "cells": [
    {
      "cell_type": "markdown",
      "metadata": {},
      "source": [
        "\n# 2D bars for binned events\nThis is an example of plotting event count with binned stacking by back-azimuth and ray-parameters.\n"
      ]
    },
    {
      "cell_type": "code",
      "execution_count": null,
      "metadata": {
        "collapsed": false
      },
      "outputs": [],
      "source": [
        "import numpy as np\nimport matplotlib.pyplot as plt\nfrom matplotlib.colorbar import ColorbarBase\nfrom matplotlib.colors import Normalize\nfrom obspy.imaging.cm import get_cmap\n\ndef plot(evts_file='data/binned_evts.txt'):\n    evts_stack = np.loadtxt(evts_file)\n    cmap = get_cmap('YlGnBu')\n    dh = 0.004\n    dww = 30\n    rayp_bins = np.arange(0.04, 0.08+dh, dh).astype(float)\n    baz_bins = np.arange(0., 360.+dww, dww).astype(float)+15\n    N = baz_bins.size\n    dw = np.mean(np.diff(np.linspace(0, 2*np.pi, N)))\n    N -= 1\n    N2 = rayp_bins.size\n    N2 -= 1\n    hist = np.zeros([N, N2])\n    for i, evt in enumerate(evts_stack):\n        idx_ba = np.where(baz_bins == evt[0])[0]\n        idx_ra = np.where((rayp_bins > evt[1]-0.0005) & (rayp_bins < evt[1]+0.0005))[0]\n        hist[idx_ba, idx_ra] = evt[2]\n    fig = plt.figure(figsize=(7, 7))\n    cax = fig.add_axes([0.1, 0.15, 0.05, 0.5])\n    ax = fig.add_axes([0.30, 0.1, 0.6, 0.6], polar=True)\n    ax.set_theta_direction(-1)\n    ax.set_theta_zero_location(\"N\")\n    for i, row in enumerate(hist):\n        bars = ax.bar(x=(i * dw) * np.ones(N2)+2*np.pi*15/360,\n                      height=dh * np.ones(N2),\n                      width=dw, bottom=dh * np.arange(N2)+0.04,\n                      color=cmap(row / hist.max()))\n    ax.set_xticks(np.arange(0, 2*np.pi, 2*np.pi*30/360))\n    ax.set_xticklabels(['{}$^\\circ$'.format(v) for v in np.arange(0, 360, 30)])\n    ax.set_ylim(0.036, 0.08)\n    ax.set_yticks(rayp_bins)\n    [i.set_color('grey') for i in ax.get_yticklabels()]\n    ax.set_rlabel_position(230)\n    ColorbarBase(cax, cmap=cmap,\n                 norm=Normalize(vmin=hist.min(), vmax=hist.max()))\n    cax.set_ylabel('Number of PRFs')\n    cax.grid(axis='y')\n    plt.show()\n\n\nif __name__ == '__main__':\n    plot()"
      ]
    }
  ],
  "metadata": {
    "kernelspec": {
      "display_name": "Python 3",
      "language": "python",
      "name": "python3"
    },
    "language_info": {
      "codemirror_mode": {
        "name": "ipython",
        "version": 3
      },
      "file_extension": ".py",
      "mimetype": "text/x-python",
      "name": "python",
      "nbconvert_exporter": "python",
      "pygments_lexer": "ipython3",
      "version": "3.9.18"
    }
  },
  "nbformat": 4,
  "nbformat_minor": 0
}