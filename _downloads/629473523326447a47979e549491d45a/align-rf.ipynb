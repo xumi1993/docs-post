{
  "cells": [
    {
      "cell_type": "markdown",
      "metadata": {},
      "source": [
        "\n# Receiver Functions order by back-azimuth\n"
      ]
    },
    {
      "cell_type": "code",
      "execution_count": null,
      "metadata": {
        "collapsed": false
      },
      "outputs": [],
      "source": [
        "import numpy as np\nfrom seispy.rfcorrect import RFStation\nimport matplotlib.pyplot as plt\n\n\ndef plot(enf=3, xlim=(-2, 30)):\n    rfsta = RFStation('./exrfs')\n    fig = plt.figure(figsize=(4, 6), dpi=120)\n    ax = fig.add_subplot()\n    fig.subplots_adjust(left=0.4)\n    ax.grid(axis='x')\n    bound = np.zeros(rfsta.rflength)\n    for i in range(rfsta.ev_num):\n        datar = rfsta.datar[i] * enf + (i + 1)\n        ax.fill_between(rfsta.time_axis, datar, bound + i+1, where=datar > i+1, facecolor='red',\n                         alpha=0.7)\n        ax.fill_between(rfsta.time_axis, datar, bound + i+1, where=datar < i+1, facecolor='blue',\n                         alpha=0.7)\n    ax.axvline(0, *ax.get_ylim(), color='black')\n    x_range = np.arange(xlim[0], xlim[1]+2, 2)\n    y_range = np.arange(rfsta.ev_num) + 1\n    ax.set_xlim(xlim)\n    ax.set_xticks(x_range)\n    ax.set_xticklabels(x_range, fontsize=8)\n    ax.set_ylim(0, rfsta.ev_num + 2)\n    ax.set_yticks(y_range)\n    ax.set_yticklabels(rfsta.event, fontsize=5)\n    ax.set_xlabel('Time after P (s)', fontsize=13)\n    ax.set_ylabel('Event', fontsize=13)\n    fig.show()\n    \n\nif __name__ == '__main__':\n    plot()"
      ]
    }
  ],
  "metadata": {
    "kernelspec": {
      "display_name": "Python 3",
      "language": "python",
      "name": "python3"
    },
    "language_info": {
      "codemirror_mode": {
        "name": "ipython",
        "version": 3
      },
      "file_extension": ".py",
      "mimetype": "text/x-python",
      "name": "python",
      "nbconvert_exporter": "python",
      "pygments_lexer": "ipython3",
      "version": "3.9.18"
    }
  },
  "nbformat": 4,
  "nbformat_minor": 0
}