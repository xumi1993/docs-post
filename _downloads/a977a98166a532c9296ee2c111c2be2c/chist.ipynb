{
  "cells": [
    {
      "cell_type": "markdown",
      "metadata": {},
      "source": [
        "\n# Colored histogram\nThis is en example of histogram with colored bars.\n"
      ]
    },
    {
      "cell_type": "code",
      "execution_count": null,
      "metadata": {
        "collapsed": false
      },
      "outputs": [],
      "source": [
        "import numpy as np\nimport matplotlib.pyplot as plt\nfrom scipy import stats\nfrom matplotlib import colors\n\n\ndef plot(nsamp=5000):\n    rng = np.random.default_rng(19680801)\n    dist = rng.standard_normal(nsamp)\n    fig, ax = plt.subplots()\n    ax.grid()\n    N, bins, patches = ax.hist(dist, bins=40)\n    fracs = N / N.max()\n    norm = colors.Normalize(fracs.min(), fracs.max())\n    for thisfrac, thispatch in zip(fracs, patches):\n        color = plt.cm.Blues(norm(thisfrac))\n        thispatch.set_facecolor(color)\n    mean = np.mean(dist)\n    std = np.std(dist)\n    ci = stats.norm.interval(0.90, loc=mean, scale=std)\n    ax.text(0.01, 0.99, \"90% Confidence interval = [{:.3f}, {:.3f}]\".format(*ci), size=8,\n            va='top', ha='left', transform=ax.transAxes,\n            bbox=dict(boxstyle=\"round\",\n                        ec=(0.5, 0.5, 0.5),\n                        fc=(0.9, 0.9, 0.9),\n                        )\n            )\n    ax.set_ylabel('Count')\n\n\nif __name__ == '__main__':\n    plot()"
      ]
    }
  ],
  "metadata": {
    "kernelspec": {
      "display_name": "Python 3",
      "language": "python",
      "name": "python3"
    },
    "language_info": {
      "codemirror_mode": {
        "name": "ipython",
        "version": 3
      },
      "file_extension": ".py",
      "mimetype": "text/x-python",
      "name": "python",
      "nbconvert_exporter": "python",
      "pygments_lexer": "ipython3",
      "version": "3.9.18"
    }
  },
  "nbformat": 4,
  "nbformat_minor": 0
}